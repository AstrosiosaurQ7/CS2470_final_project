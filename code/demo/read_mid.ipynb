{
 "cells": [
  {
   "cell_type": "code",
   "execution_count": 11,
   "metadata": {},
   "outputs": [
    {
     "name": "stdout",
     "output_type": "stream",
     "text": [
      "Track 0: \n",
      "Track 1: \n"
     ]
    }
   ],
   "source": [
    "import mido\n",
    "\n",
    "# Path to your MIDI file\n",
    "midi_file_path = '/Users/zhangyuhong/Desktop/cs1470/final_project/EMOPIA_2.2/midis/Q1__8v0MFBZoco_1.mid'\n",
    "\n",
    "# Load the MIDI file\n",
    "mid = mido.MidiFile(midi_file_path)\n",
    "\n",
    "# Iterate over all messages in all tracks\n",
    "for i, track in enumerate(mid.tracks):\n",
    "    print(f'Track {i}: {track.name}')\n",
    "    for msg in track:\n",
    "        print(msg)"
   ]
  },
  {
   "cell_type": "code",
   "execution_count": 10,
   "metadata": {},
   "outputs": [],
   "source": [
    "import pygame\n",
    "import time\n",
    "\n",
    "def play_midi_file(midi_file_path):\n",
    "    # Initialize pygame mixer\n",
    "    pygame.mixer.init()\n",
    "    \n",
    "    # Initialize pygame\n",
    "    pygame.init()\n",
    "    \n",
    "    # Load the MIDI file\n",
    "    pygame.mixer.music.load(midi_file_path)\n",
    "    \n",
    "    # Play the MIDI file\n",
    "    pygame.mixer.music.play()\n",
    "    \n",
    "    # Since playback is asynchronous, keep the script running until playback finishes\n",
    "    while pygame.mixer.music.get_busy():\n",
    "        pygame.time.wait(100)  # Check every 100ms\n",
    "\n",
    "# Replace 'path_to_your_midi_file.mid' with the path to your MIDI file\n",
    "\n",
    "play_midi_file(midi_file_path)\n"
   ]
  },
  {
   "cell_type": "markdown",
   "metadata": {},
   "source": [
    "## Diff shape of input"
   ]
  },
  {
   "cell_type": "code",
   "execution_count": 2,
   "metadata": {},
   "outputs": [
    {
     "ename": "TypeError",
     "evalue": "Expected an integer value for `n`, got <class 'NoneType'>.",
     "output_type": "error",
     "traceback": [
      "\u001b[1;31m---------------------------------------------------------------------------\u001b[0m",
      "\u001b[1;31mTypeError\u001b[0m                                 Traceback (most recent call last)",
      "Cell \u001b[1;32mIn[2], line 28\u001b[0m\n\u001b[0;32m     26\u001b[0m \u001b[38;5;66;03m# Decoder\u001b[39;00m\n\u001b[0;32m     27\u001b[0m z_cond \u001b[38;5;241m=\u001b[39m layers\u001b[38;5;241m.\u001b[39mInput(shape\u001b[38;5;241m=\u001b[39m(latent_dim \u001b[38;5;241m+\u001b[39m num_classes,))\n\u001b[1;32m---> 28\u001b[0m x \u001b[38;5;241m=\u001b[39m \u001b[43mlayers\u001b[49m\u001b[38;5;241;43m.\u001b[39;49m\u001b[43mRepeatVector\u001b[49m\u001b[43m(\u001b[49m\u001b[43minput_shape\u001b[49m\u001b[43m[\u001b[49m\u001b[38;5;241;43m0\u001b[39;49m\u001b[43m]\u001b[49m\u001b[43m)\u001b[49m(z_cond)\n\u001b[0;32m     29\u001b[0m x \u001b[38;5;241m=\u001b[39m layers\u001b[38;5;241m.\u001b[39mLSTM(\u001b[38;5;241m128\u001b[39m, return_sequences\u001b[38;5;241m=\u001b[39m\u001b[38;5;28;01mTrue\u001b[39;00m)(x)\n\u001b[0;32m     30\u001b[0m outputs \u001b[38;5;241m=\u001b[39m layers\u001b[38;5;241m.\u001b[39mTimeDistributed(layers\u001b[38;5;241m.\u001b[39mDense(input_shape[\u001b[38;5;241m1\u001b[39m]))(x)\n",
      "File \u001b[1;32m~\\AppData\\Roaming\\Python\\Python310\\site-packages\\keras\\layers\\reshaping\\repeat_vector.py:54\u001b[0m, in \u001b[0;36mRepeatVector.__init__\u001b[1;34m(self, n, **kwargs)\u001b[0m\n\u001b[0;32m     52\u001b[0m \u001b[38;5;28mself\u001b[39m\u001b[38;5;241m.\u001b[39mn \u001b[38;5;241m=\u001b[39m n\n\u001b[0;32m     53\u001b[0m \u001b[38;5;28;01mif\u001b[39;00m \u001b[38;5;129;01mnot\u001b[39;00m \u001b[38;5;28misinstance\u001b[39m(n, \u001b[38;5;28mint\u001b[39m):\n\u001b[1;32m---> 54\u001b[0m     \u001b[38;5;28;01mraise\u001b[39;00m \u001b[38;5;167;01mTypeError\u001b[39;00m(\n\u001b[0;32m     55\u001b[0m         \u001b[38;5;124mf\u001b[39m\u001b[38;5;124m\"\u001b[39m\u001b[38;5;124mExpected an integer value for `n`, got \u001b[39m\u001b[38;5;132;01m{\u001b[39;00m\u001b[38;5;28mtype\u001b[39m(n)\u001b[38;5;132;01m}\u001b[39;00m\u001b[38;5;124m.\u001b[39m\u001b[38;5;124m\"\u001b[39m\n\u001b[0;32m     56\u001b[0m     )\n\u001b[0;32m     57\u001b[0m \u001b[38;5;28mself\u001b[39m\u001b[38;5;241m.\u001b[39minput_spec \u001b[38;5;241m=\u001b[39m InputSpec(ndim\u001b[38;5;241m=\u001b[39m\u001b[38;5;241m2\u001b[39m)\n",
      "\u001b[1;31mTypeError\u001b[0m: Expected an integer value for `n`, got <class 'NoneType'>."
     ]
    }
   ],
   "source": [
    "import numpy as np\n",
    "import tensorflow as tf\n",
    "from tensorflow.keras import layers, Model\n",
    "from tensorflow.keras.utils import to_categorical\n",
    "\n",
    "latent_dim = 64\n",
    "input_shape = (None, 3)  # Variable length sequences with 3 features (note, velocity, time)\n",
    "num_classes = 10  # Number of classes for conditioning\n",
    "\n",
    "# Encoder\n",
    "inputs = layers.Input(shape=input_shape)\n",
    "x = layers.LSTM(128)(inputs)\n",
    "z_mean = layers.Dense(latent_dim, name='z_mean')(x)\n",
    "z_log_var = layers.Dense(latent_dim, name='z_log_var')(x)\n",
    "\n",
    "# Reparameterization trick\n",
    "def sampling(args):\n",
    "    z_mean, z_log_var = args\n",
    "    batch = tf.shape(z_mean)[0]\n",
    "    dim = tf.shape(z_mean)[1]\n",
    "    epsilon = tf.keras.backend.random_normal(shape=(batch, dim))\n",
    "    return z_mean + tf.exp(0.5 * z_log_var) * epsilon\n",
    "\n",
    "z = layers.Lambda(sampling, output_shape=(latent_dim,), name='z')([z_mean, z_log_var])\n",
    "\n",
    "# Decoder\n",
    "z_cond = layers.Input(shape=(latent_dim + num_classes,))\n",
    "x = layers.RepeatVector(input_shape[0])(z_cond)\n",
    "x = layers.LSTM(128, return_sequences=True)(x)\n",
    "outputs = layers.TimeDistributed(layers.Dense(input_shape[1]))(x)\n",
    "\n",
    "# CVAE Model\n",
    "encoder = Model(inputs, [z_mean, z_log_var, z], name='encoder')\n",
    "decoder = Model(z_cond, outputs, name='decoder')\n",
    "\n",
    "cvae_inputs = [inputs, z_cond]\n",
    "cvae_outputs = decoder([z, z_cond])\n",
    "cvae = Model(cvae_inputs, cvae_outputs, name='cvae')\n",
    "\n",
    "# Loss\n",
    "kl_loss = -0.5 * tf.reduce_mean(1 + z_log_var - tf.square(z_mean) - tf.exp(z_log_var))\n",
    "cvae.add_loss(kl_loss)\n",
    "\n",
    "# Compile the model\n",
    "cvae.compile(optimizer='adam')\n",
    "\n",
    "\n"
   ]
  },
  {
   "cell_type": "code",
   "execution_count": null,
   "metadata": {},
   "outputs": [],
   "source": [
    "# Example usage\n",
    "# Generate some dummy data\n",
    "num_samples = 1000\n",
    "max_seq_length = 20\n",
    "\n",
    "sequences = []\n",
    "for _ in range(num_samples):\n",
    "    seq_length = np.random.randint(5, max_seq_length + 1)\n",
    "    sequence = np.random.rand(seq_length, 3)  # Random sequences of variable lengths\n",
    "    sequences.append(sequence)\n",
    "\n",
    "sequences = np.array(sequences)\n",
    "\n",
    "# Generate dummy labels for conditioning\n",
    "labels = np.random.randint(0, num_classes, size=num_samples)\n",
    "one_hot_labels = to_categorical(labels, num_classes)\n",
    "\n",
    "# Train the model\n",
    "cvae.fit([sequences, np.concatenate([np.zeros((num_samples, latent_dim)), one_hot_labels], axis=1)], sequences, epochs=10, batch_size=32)"
   ]
  }
 ],
 "metadata": {
  "kernelspec": {
   "display_name": "csci1470",
   "language": "python",
   "name": "python3"
  },
  "language_info": {
   "codemirror_mode": {
    "name": "ipython",
    "version": 3
   },
   "file_extension": ".py",
   "mimetype": "text/x-python",
   "name": "python",
   "nbconvert_exporter": "python",
   "pygments_lexer": "ipython3",
   "version": "3.10.9"
  }
 },
 "nbformat": 4,
 "nbformat_minor": 2
}
