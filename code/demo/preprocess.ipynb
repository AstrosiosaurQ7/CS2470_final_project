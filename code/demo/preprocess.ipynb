{
 "cells": [
  {
   "cell_type": "code",
   "execution_count": 3,
   "id": "018ff26c",
   "metadata": {},
   "outputs": [],
   "source": [
    "import numpy as np\n",
    "import pandas as pd"
   ]
  },
  {
   "cell_type": "code",
   "execution_count": 15,
   "id": "2e5933a8",
   "metadata": {
    "scrolled": true
   },
   "outputs": [
    {
     "name": "stdout",
     "output_type": "stream",
     "text": [
      "                    ID  4Q annotator\n",
      "0     Q1_0vLPYiPN7qY_0   1         D\n",
      "1     Q1_0vLPYiPN7qY_1   1         D\n",
      "2     Q1_0vLPYiPN7qY_2   1         D\n",
      "3     Q1_1Qc15G0ZHIg_1   1         D\n",
      "4     Q1_1Qc15G0ZHIg_2   1         D\n",
      "...                ...  ..       ...\n",
      "1073  Q4_xgtwQGeB6_0_0   4         C\n",
      "1074  Q4_xrhWli_R98g_0   4         C\n",
      "1075  Q4_xrhWli_R98g_2   4         C\n",
      "1076  Q4_yC0fAQxGgr0_0   4         C\n",
      "1077  Q4_yC0fAQxGgr0_1   4         C\n",
      "\n",
      "[1078 rows x 3 columns]\n"
     ]
    }
   ],
   "source": [
    "# load data\n",
    "label_pathe = r\"D:\\BrownUnivercity\\CS2470\\final_proj\\motion_to_melody\\data\\EMOPIA_1.0\\label.csv\"\n",
    "label = pd.read_csv(label_pathe)\n",
    "# songs name ; emotion label ; who label"
   ]
  },
  {
   "cell_type": "code",
   "execution_count": 5,
   "id": "e1e990ce",
   "metadata": {},
   "outputs": [
    {
     "name": "stdout",
     "output_type": "stream",
     "text": [
      "[[1 2 3]\n",
      " [4 5 6]\n",
      " [7 8 9]\n",
      " [0 0 0]\n",
      " [0 0 0]]\n"
     ]
    }
   ],
   "source": [
    "import numpy as np\n",
    "\n",
    "result_array = [[1,2,3],\n",
    "              [4,5,6],\n",
    "              [7,8,9]]\n",
    "\n",
    "if len(result_array) > 5:\n",
    "    result_array = result_array[:20000]\n",
    "else:\n",
    "    num_to_pad = 5 - len(result_array)\n",
    "    result_array = np.pad(result_array, ((0, num_to_pad), (0, 0)), mode='constant')\n",
    "\n",
    "print(result_array)"
   ]
  }
 ],
 "metadata": {
  "kernelspec": {
   "display_name": "Python 3 (ipykernel)",
   "language": "python",
   "name": "python3"
  },
  "language_info": {
   "codemirror_mode": {
    "name": "ipython",
    "version": 3
   },
   "file_extension": ".py",
   "mimetype": "text/x-python",
   "name": "python",
   "nbconvert_exporter": "python",
   "pygments_lexer": "ipython3",
   "version": "3.10.7"
  },
  "toc": {
   "base_numbering": 1,
   "nav_menu": {},
   "number_sections": true,
   "sideBar": true,
   "skip_h1_title": false,
   "title_cell": "Table of Contents",
   "title_sidebar": "Contents",
   "toc_cell": false,
   "toc_position": {},
   "toc_section_display": true,
   "toc_window_display": false
  }
 },
 "nbformat": 4,
 "nbformat_minor": 5
}
