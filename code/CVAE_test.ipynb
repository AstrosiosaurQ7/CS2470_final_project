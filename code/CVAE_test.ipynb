{
 "cells": [
  {
   "cell_type": "code",
   "execution_count": 1,
   "metadata": {},
   "outputs": [],
   "source": [
    "import mido\n",
    "from mido import Message, MidiFile, MidiTrack,MetaMessage\n",
    "import string\n",
    "import numpy as np\n",
    "import pandas as pd\n",
    "from midi_array import *\n",
    "import os\n",
    "import csv\n"
   ]
  },
  {
   "cell_type": "code",
   "execution_count": 5,
   "metadata": {},
   "outputs": [],
   "source": [
    "import torch\n",
    "import torch.nn as nn\n",
    "import torch.nn.functional as F\n",
    "import torch.optim as optim\n",
    "from torch.utils.data import DataLoader, TensorDataset"
   ]
  },
  {
   "cell_type": "code",
   "execution_count": 3,
   "metadata": {},
   "outputs": [],
   "source": [
    "# label path     \n",
    "label_path = r'D:\\BrownUnivercity\\CS2470\\final_proj\\CS2470_final_project\\data\\label.csv'\n",
    "# Define the folder path\n",
    "folder_path = r'D:\\BrownUnivercity\\CS2470\\final_proj\\CS2470_final_project\\data\\test'\n",
    "# load data\n",
    "music,tag, align_length = get_music_data(folder_path, label_path)"
   ]
  },
  {
   "cell_type": "code",
   "execution_count": 4,
   "metadata": {},
   "outputs": [],
   "source": [
    "# help function\n",
    "def one_hot_encode(labels, num_classes):\n",
    "    one_hot_labels = np.zeros((len(labels), num_classes))\n",
    "    for i, label in enumerate(labels):\n",
    "        one_hot_labels[i, label - 1] = 1\n",
    "    return one_hot_labels"
   ]
  },
  {
   "cell_type": "markdown",
   "metadata": {},
   "source": [
    "## CVAE"
   ]
  },
  {
   "cell_type": "code",
   "execution_count": null,
   "metadata": {},
   "outputs": [],
   "source": [
    "class Encoder(nn.Module):\n",
    "    def __init__(self, input_size, hidden_size, latent_size, num_classes):\n",
    "        super(Encoder, self).__init__()\n",
    "        self.fc1 = nn.Linear(input_size + num_classes, hidden_size)\n",
    "        self.fc2_mean = nn.Linear(hidden_size, latent_size)\n",
    "        self.fc2_logvar = nn.Linear(hidden_size, latent_size)\n",
    "        \n",
    "    def forward(self, x, y):\n",
    "        # Concatenate input with class information\n",
    "        x = torch.cat((x, y), dim=1)\n",
    "        x = F.relu(self.fc1(x))\n",
    "        mean = self.fc2_mean(x)\n",
    "        logvar = self.fc2_logvar(x)\n",
    "        return mean, logvar\n",
    "\n",
    "class Decoder(nn.Module):\n",
    "    def __init__(self, latent_size, hidden_size, output_size, num_classes):\n",
    "        super(Decoder, self).__init__()\n",
    "        self.fc1 = nn.Linear(latent_size + num_classes, hidden_size)\n",
    "        self.fc2 = nn.Linear(hidden_size, output_size)\n",
    "        \n",
    "    def forward(self, z, y):\n",
    "        # Concatenate latent variable with class information\n",
    "        z = torch.cat((z, y), dim=1)\n",
    "        z = F.relu(self.fc1(z))\n",
    "        reconstruction = torch.sigmoid(self.fc2(z))  # Use sigmoid for binary output\n",
    "        return reconstruction\n",
    "\n",
    "class CVAE(nn.Module):\n",
    "    def __init__(self, input_size, hidden_size, latent_size, output_size, num_classes):\n",
    "        super(CVAE, self).__init__()\n",
    "        self.encoder = Encoder(input_size, hidden_size, latent_size, num_classes)\n",
    "        self.decoder = Decoder(latent_size, hidden_size, output_size, num_classes)\n",
    "        \n",
    "    def reparameterize(self, mean, logvar):\n",
    "        std = torch.exp(0.5 * logvar)\n",
    "        eps = torch.randn_like(std)\n",
    "        return mean + eps * std\n",
    "    \n",
    "    def forward(self, x, y):\n",
    "        x = x.to(torch.float32)\n",
    "        y = y.to(torch.flost32)\n",
    "        mean, logvar = self.encoder(x, y)\n",
    "        z = self.reparameterize(mean, logvar)\n",
    "        reconstruction = self.decoder(z, y)\n",
    "        return reconstruction, mean, logvar\n",
    "\n"
   ]
  },
  {
   "cell_type": "code",
   "execution_count": null,
   "metadata": {},
   "outputs": [],
   "source": [
    "\n",
    "# Define your dataset, dataloaders, loss function, optimizer, etc.\n",
    "# Train your CVAE model using the defined components.\n",
    "num_classes = 4\n",
    "input_size = 10000 * 88\n",
    "hidden_size = 256\n",
    "latent_size = 32\n",
    "output_size = "
   ]
  }
 ],
 "metadata": {
  "kernelspec": {
   "display_name": "data2060",
   "language": "python",
   "name": "python3"
  },
  "language_info": {
   "codemirror_mode": {
    "name": "ipython",
    "version": 3
   },
   "file_extension": ".py",
   "mimetype": "text/x-python",
   "name": "python",
   "nbconvert_exporter": "python",
   "pygments_lexer": "ipython3",
   "version": "3.10.7"
  }
 },
 "nbformat": 4,
 "nbformat_minor": 2
}
