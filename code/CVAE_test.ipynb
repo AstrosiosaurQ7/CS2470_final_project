{
 "cells": [
  {
   "cell_type": "code",
   "execution_count": null,
   "metadata": {},
   "outputs": [],
   "source": [
    "import mido\n",
    "from mido import Message, MidiFile, MidiTrack,MetaMessage\n",
    "import string\n",
    "import numpy as np\n",
    "import pandas as pd\n",
    "from midi_arr import *\n",
    "import os\n",
    "import csv\n"
   ]
  },
  {
   "cell_type": "code",
   "execution_count": null,
   "metadata": {},
   "outputs": [],
   "source": [
    "import torch\n",
    "import torch.nn as nn\n",
    "import torch.nn.functional as F\n",
    "import torch.optim as optim\n",
    "from torch.utils.data import DataLoader, TensorDataset"
   ]
  },
  {
   "cell_type": "markdown",
   "metadata": {},
   "source": [
    "## Load data"
   ]
  },
  {
   "cell_type": "code",
   "execution_count": null,
   "metadata": {},
   "outputs": [],
   "source": [
    "# # label path     \n",
    "# label_path = r'D:\\BrownUnivercity\\CS2470\\final_proj\\CS2470_final_project\\data\\label.csv'\n",
    "# # Define the folder path\n",
    "# folder_path = r'D:\\BrownUnivercity\\CS2470\\final_proj\\CS2470_final_project\\data\\test'\n",
    "# # load data\n",
    "# music,tag, align_length = get_music_data(folder_path, label_path)"
   ]
  },
  {
   "cell_type": "code",
   "execution_count": null,
   "metadata": {},
   "outputs": [],
   "source": [
    "music = load_music()\n",
    "label = load_label()"
   ]
  },
  {
   "cell_type": "code",
   "execution_count": null,
   "metadata": {},
   "outputs": [],
   "source": [
    "print(len(music))\n",
    "print(music[0].shape)\n"
   ]
  },
  {
   "cell_type": "code",
   "execution_count": null,
   "metadata": {},
   "outputs": [],
   "source": [
    "# help function\n",
    "def one_hot_encode(labels, num_classes):\n",
    "    one_hot_labels = np.zeros((len(labels), num_classes))\n",
    "    for i, label in enumerate(labels):\n",
    "        one_hot_labels[i, label - 1] = 1\n",
    "    return one_hot_labels\n",
    "\n",
    "# onehot_encode\n",
    "labels = one_hot_encode(label,4)"
   ]
  },
  {
   "cell_type": "code",
   "execution_count": null,
   "metadata": {},
   "outputs": [],
   "source": [
    "print(labels)"
   ]
  },
  {
   "cell_type": "markdown",
   "metadata": {},
   "source": [
    "## CVAE"
   ]
  },
  {
   "cell_type": "code",
   "execution_count": null,
   "metadata": {},
   "outputs": [],
   "source": [
    "class Encoder(nn.Module):\n",
    "    def __init__(self, input_size, hidden_size, latent_size, num_classes, dropout_prob=0.5):\n",
    "        super(Encoder, self).__init__()\n",
    "        self.fc1 = nn.Linear(input_size + num_classes, hidden_size)\n",
    "        self.fc2 = nn.Linear(hidden_size, hidden_size)\n",
    "        self.fc3_mean = nn.Linear(hidden_size, latent_size)\n",
    "        self.fc3_logvar = nn.Linear(hidden_size, latent_size)\n",
    "        self.dropout = nn.Dropout(dropout_prob)\n",
    "        \n",
    "    def forward(self, x, y):\n",
    "        # Concatenate input with class information\n",
    "        # y = y.view(-1, 1)\n",
    "        x = torch.cat((x, y), dim=1)\n",
    "        x = F.relu(self.fc1(x))\n",
    "        x = self.dropout(x)\n",
    "        x = F.relu(self.fc2(x))\n",
    "        \n",
    "        mean = self.fc3_mean(x)\n",
    "        # Convert mean to one-hot encoded format\n",
    "        _, max_indices = mean.max(dim=1)\n",
    "        mean_one_hot = torch.zeros(mean.size(), dtype=torch.float32)\n",
    "        mean_one_hot.scatter_(1, max_indices.view(-1, 1), 1)\n",
    "\n",
    "        logvar = self.fc3_logvar(x)\n",
    "        _, logvar_indice = logvar.max(dim=1)\n",
    "        logvar_one_hot = torch.zeros(logvar.size(), dtype=torch.float32)\n",
    "        logvar_one_hot.scatter_(1, logvar_indice.view(-1, 1), 1)\n",
    "\n",
    "        return mean_one_hot, logvar_one_hot\n",
    "\n",
    "class Decoder(nn.Module):\n",
    "    def __init__(self, latent_size, hidden_size, output_size, num_classes):\n",
    "        super(Decoder, self).__init__()\n",
    "        self.fc1 = nn.Linear(latent_size + num_classes, hidden_size)\n",
    "        self.fc2 = nn.Linear(hidden_size, output_size)\n",
    "        \n",
    "    def forward(self, z, y):\n",
    "        # Concatenate latent variable with class information\n",
    "        z = torch.cat((z, y), dim=1)\n",
    "        z = F.relu(self.fc1(z))\n",
    "        reconstruction = self.fc2(z)  \n",
    "        # Convert reconstruction \n",
    "        reconstruction = torch.sigmoid(reconstruction)\n",
    "        reconstruction = (reconstruction * 87) + 21\n",
    "        # reconstruction = reconstruction.round().int()\n",
    "        return reconstruction\n",
    "\n",
    "class CVAE(nn.Module):\n",
    "    def __init__(self, input_size, hidden_size, latent_size, output_size, num_classes):\n",
    "        super(CVAE, self).__init__()\n",
    "        self.encoder = Encoder(input_size, hidden_size, latent_size, num_classes)\n",
    "        self.decoder = Decoder(latent_size, hidden_size, output_size, num_classes)\n",
    "        \n",
    "    def reparameterize(self, mean, logvar):\n",
    "        std = torch.exp(0.5 * logvar)\n",
    "        eps = torch.randn_like(std)\n",
    "        return mean + eps * std\n",
    "    \n",
    "    def forward(self, x, y):\n",
    "        x = x.to(torch.float32)\n",
    "        y = y.to(torch.float32)\n",
    "        mean, logvar = self.encoder(x, y)\n",
    "        # print(f\"mean:{mean}\")\n",
    "        z = self.reparameterize(mean, logvar)\n",
    "        reconstruction = self.decoder(z, y)\n",
    "        # print(f\"reconstruction:{reconstruction}\")\n",
    "        return reconstruction, mean, logvar\n",
    "\n"
   ]
  },
  {
   "cell_type": "code",
   "execution_count": null,
   "metadata": {},
   "outputs": [],
   "source": [
    "input_size = 500 * 3\n",
    "hidden_size = 256\n",
    "latent_size = 4\n",
    "num_classes = 4\n",
    "output_size = 500 * 3\n",
    "cvae_model = CVAE(input_size, hidden_size, latent_size, output_size, num_classes)"
   ]
  },
  {
   "cell_type": "code",
   "execution_count": null,
   "metadata": {},
   "outputs": [],
   "source": [
    "\n",
    "# Define optimizer\n",
    "learning_rate = 0.05\n",
    "optimizer = optim.Adam(cvae_model.parameters(), lr=learning_rate)\n",
    "\n",
    "# Define loss function\n",
    "def loss_function(recon_x, x, mu, logvar,labels):\n",
    "    \n",
    "    CE = nn.CrossEntropyLoss(reduction='sum')  # Cross-entropy loss\n",
    "    reconstruction_loss = CE(recon_x, x.view(-1, input_size))\n",
    "    # KL divergence loss\n",
    "    KLD = -0.5 * torch.sum(1 + logvar - mu.pow(2) - logvar.exp())\n",
    "    # Conditional loss\n",
    "    # Convert class indices to one-hot vectors with the same dimensionality as mu\n",
    "    conditional_loss = torch.mean((labels - mu).pow(2))\n",
    "    \n",
    "    return reconstruction_loss + KLD + conditional_loss\n",
    "\n",
    "# Define your training function\n",
    "def train(epoch,train_loader,log_interval):\n",
    "    cvae_model.train()\n",
    "    train_loss = 0\n",
    "    for batch_idx, (data, labels) in enumerate(train_loader):\n",
    "        data = data.view(-1, input_size).to(torch.float32)\n",
    "        labels = labels.to(torch.float32)\n",
    "        optimizer.zero_grad()\n",
    "        recon_batch, mu, logvar = cvae_model(data, labels)\n",
    "        loss = loss_function(recon_batch, data, mu, logvar,labels)\n",
    "        loss.backward()\n",
    "        train_loss += loss.item()\n",
    "        optimizer.step()\n",
    "        if batch_idx % log_interval == 0:\n",
    "            print('Train Epoch: {} [{}/{} ({:.0f}%)]\\tLoss: {:.6f}'.format(\n",
    "                epoch, batch_idx * len(data), len(train_loader.dataset),\n",
    "                100. * batch_idx / len(train_loader),\n",
    "                loss.item() / len(data)))\n",
    "\n"
   ]
  },
  {
   "cell_type": "code",
   "execution_count": null,
   "metadata": {},
   "outputs": [],
   "source": [
    "# Assuming you have defined train_loader (your data loader for training data)\n",
    "\n",
    "label = torch.tensor(labels)\n",
    "music = torch.tensor(music)\n",
    "\n",
    "# data\n",
    "dataset = TensorDataset(music, label)\n",
    "dataloader = DataLoader(dataset, shuffle=True)\n",
    "\n",
    "# Set number of epochs and log interval\n",
    "num_epochs = 15\n",
    "log_interval = 10\n",
    "\n",
    "# Train the model\n",
    "for epoch in range(num_epochs):\n",
    "        train(epoch,dataloader,log_interval)"
   ]
  },
  {
   "cell_type": "code",
   "execution_count": null,
   "metadata": {},
   "outputs": [],
   "source": [
    "print(f\"label_shape:{label.shape}\") \n",
    "print(f\"musci_shape:{music.shape}\") "
   ]
  },
  {
   "cell_type": "code",
   "execution_count": null,
   "metadata": {},
   "outputs": [],
   "source": [
    "# Assuming you have a trained decoder model\n",
    "decoder = Decoder(latent_size=4, hidden_size=256, output_size=500 * 3, num_classes=4)\n",
    "\n",
    "# Sample from the latent space (you can use any method to sample from a distribution, such as normal distribution)\n",
    "latent_sample = torch.randn(1, 4)  # Assuming batch size of 1\n",
    "target_label = [0,1,0,0]\n",
    "target_label_tensor = torch.tensor(target_label, dtype=torch.float32).unsqueeze(0)\n",
    "# Pass the sampled latent vectors through the decoder\n",
    "with torch.no_grad():\n",
    "    generated_data = decoder(latent_sample,target_label_tensor)\n",
    "\n",
    "# The generated_data tensor contains the generated data points\n",
    "generated_data = generated_data.round().int()\n",
    "generated_data = generated_data.reshape(-1,3)\n",
    "generated_data = generated_data.tolist()\n",
    "print(generated_data)"
   ]
  },
  {
   "cell_type": "code",
   "execution_count": null,
   "metadata": {},
   "outputs": [],
   "source": [
    "def arr2midi(events, output_file):\n",
    "    mid = mido.MidiFile()\n",
    "\n",
    "    # Create track 0 for meta messages\n",
    "    meta_track = mido.MidiTrack()\n",
    "    mid.tracks.append(meta_track)\n",
    "\n",
    "    # Set the tempo to default 120 BPM\n",
    "    meta_track.append(mido.MetaMessage('set_tempo', tempo=500000))\n",
    "\n",
    "    # Create track 1 for events\n",
    "    event_track = mido.MidiTrack()\n",
    "    mid.tracks.append(event_track)\n",
    "\n",
    "    # Iterate through the events and convert them to MIDI messages\n",
    "    for event in events:\n",
    "        note, velocity, time = event[0], event[1], event[2]\n",
    "        if note == 0 and velocity == 0 and time == 0:\n",
    "            break\n",
    "\n",
    "        note_on = mido.Message('note_on', note=note, velocity=velocity, time=time)\n",
    "        event_track.append(note_on)\n",
    "\n",
    "    # Save the MIDI file\n",
    "    mid.save(output_file)\n",
    "\n",
    "\n"
   ]
  },
  {
   "cell_type": "code",
   "execution_count": null,
   "metadata": {},
   "outputs": [],
   "source": [
    "# MIDI events / list format\n",
    "events = generated_data\n",
    "\n",
    "# Output MIDI file name\n",
    "output_file = \"output_label2.mid\"\n",
    "\n",
    "# Reconstruct MIDI and save to file\n",
    "arr2midi(events, output_file)"
   ]
  },
  {
   "cell_type": "code",
   "execution_count": null,
   "metadata": {},
   "outputs": [],
   "source": [
    "# Load the MIDI file\n",
    "mid = mido.MidiFile('output_label2.mid')\n",
    "\n",
    "# Iterate over all messages in all tracks\n",
    "for i, track in enumerate(mid.tracks):\n",
    "    print(f'Track {i}: {track.name}')\n",
    "    for msg in track:\n",
    "        print(msg)"
   ]
  },
  {
   "cell_type": "code",
   "execution_count": null,
   "metadata": {},
   "outputs": [],
   "source": []
  }
 ],
 "metadata": {
  "kernelspec": {
   "display_name": "data2060",
   "language": "python",
   "name": "python3"
  },
  "language_info": {
   "codemirror_mode": {
    "name": "ipython",
    "version": 3
   },
   "file_extension": ".py",
   "mimetype": "text/x-python",
   "name": "python",
   "nbconvert_exporter": "python",
   "pygments_lexer": "ipython3",
   "version": "3.10.9"
  }
 },
 "nbformat": 4,
 "nbformat_minor": 2
}
